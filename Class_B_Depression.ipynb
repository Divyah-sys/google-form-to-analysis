{
  "nbformat": 4,
  "nbformat_minor": 0,
  "metadata": {
    "colab": {
      "name": "Class B - Depression",
      "provenance": [],
      "collapsed_sections": [],
      "authorship_tag": "ABX9TyOfwBHEjQGEHjx7pf/CNsTB",
      "include_colab_link": true
    },
    "kernelspec": {
      "name": "python3",
      "display_name": "Python 3"
    },
    "language_info": {
      "name": "python"
    }
  },
  "cells": [
    {
      "cell_type": "markdown",
      "metadata": {
        "id": "view-in-github",
        "colab_type": "text"
      },
      "source": [
        "<a href=\"https://colab.research.google.com/github/Divyah-sys/google-form-to-analysis/blob/main/Class_B_Depression.ipynb\" target=\"_parent\"><img src=\"https://colab.research.google.com/assets/colab-badge.svg\" alt=\"Open In Colab\"/></a>"
      ]
    },
    {
      "cell_type": "code",
      "execution_count": 62,
      "metadata": {
        "id": "x-gxt6Au0AP8"
      },
      "outputs": [],
      "source": [
        "import numpy as np\n",
        "Depression = [2,2,3,3,3,2,3,2,3,3,1,2,1,1,1,1,1,0,1,0,3,1,2,1,0,1,0,1,3,0,0,3,1,1,1,0,0,0,0,0,0,0,0,1,1,1,1,2,1,0,1,2,2,2,2,2,2,0,2,2,2,2,2,1,2,1,1,2,2,2,2,2,2,3,3,2,3,0,2,3,1,2,3,2,2,3,3,3,3,3,3,3,1,2,3,3,2,2,2,2,2,1,2,0,0,2,2,0,0,0,1,1,1,0,1,1,0,1,1,2,3,1,2,1,1,0,0,3,0,2,1,3,1,2,1,0,0,3,1,0,0,0,1,1,2,1,1,2,0,1]"
      ]
    },
    {
      "cell_type": "code",
      "source": [
        "mean=np.mean(Depression)\n",
        "mean"
      ],
      "metadata": {
        "colab": {
          "base_uri": "https://localhost:8080/"
        },
        "id": "7_ipxBwV1_4b",
        "outputId": "19b54154-b17a-450b-ff38-9a2cc863ea73"
      },
      "execution_count": 63,
      "outputs": [
        {
          "output_type": "execute_result",
          "data": {
            "text/plain": [
              "1.44"
            ]
          },
          "metadata": {},
          "execution_count": 63
        }
      ]
    },
    {
      "cell_type": "code",
      "source": [
        "median=np.median(Depression)\n",
        "median"
      ],
      "metadata": {
        "colab": {
          "base_uri": "https://localhost:8080/"
        },
        "id": "a0iSHqHi2IOJ",
        "outputId": "10bf7b11-8743-41b6-b9d3-d066a6867761"
      },
      "execution_count": 64,
      "outputs": [
        {
          "output_type": "execute_result",
          "data": {
            "text/plain": [
              "1.0"
            ]
          },
          "metadata": {},
          "execution_count": 64
        }
      ]
    },
    {
      "cell_type": "code",
      "source": [
        "np.var(Depression)"
      ],
      "metadata": {
        "colab": {
          "base_uri": "https://localhost:8080/"
        },
        "id": "E_DdDi917bez",
        "outputId": "992f6889-e9c9-4259-97fd-8012e2a4f75e"
      },
      "execution_count": 77,
      "outputs": [
        {
          "output_type": "execute_result",
          "data": {
            "text/plain": [
              "2.24"
            ]
          },
          "metadata": {},
          "execution_count": 77
        }
      ]
    },
    {
      "cell_type": "code",
      "source": [
        "std=np.std(Depression)\n",
        "std"
      ],
      "metadata": {
        "colab": {
          "base_uri": "https://localhost:8080/"
        },
        "id": "e-ol_3h779EW",
        "outputId": "964002a3-52cd-49cc-9e11-7778915f7d86"
      },
      "execution_count": 67,
      "outputs": [
        {
          "output_type": "execute_result",
          "data": {
            "text/plain": [
              "1.0229369482035537"
            ]
          },
          "metadata": {},
          "execution_count": 67
        }
      ]
    }
  ]
}