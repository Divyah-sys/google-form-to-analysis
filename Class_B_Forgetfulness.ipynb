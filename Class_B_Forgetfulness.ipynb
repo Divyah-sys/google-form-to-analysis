{
  "nbformat": 4,
  "nbformat_minor": 0,
  "metadata": {
    "colab": {
      "name": "Class B - Forgetfulness",
      "provenance": [],
      "collapsed_sections": [],
      "authorship_tag": "ABX9TyM+IZN6WB/cyLp7yBZ01goE",
      "include_colab_link": true
    },
    "kernelspec": {
      "name": "python3",
      "display_name": "Python 3"
    },
    "language_info": {
      "name": "python"
    }
  },
  "cells": [
    {
      "cell_type": "markdown",
      "metadata": {
        "id": "view-in-github",
        "colab_type": "text"
      },
      "source": [
        "<a href=\"https://colab.research.google.com/github/Divyah-sys/google-form-to-analysis/blob/main/Class_B_Forgetfulness.ipynb\" target=\"_parent\"><img src=\"https://colab.research.google.com/assets/colab-badge.svg\" alt=\"Open In Colab\"/></a>"
      ]
    },
    {
      "cell_type": "code",
      "execution_count": 50,
      "metadata": {
        "id": "x-gxt6Au0AP8"
      },
      "outputs": [],
      "source": [
        "import numpy as np\n",
        "Forgetfulness = [2,2,2,2,2,2,3,2,3,1,0,2,1,1,1,1,1,0,1,0,3,0,2,0,1,0,0,2,1,0,3,0,1,1,3,0,0,0,0,0,0,1,0,3,1,0,1,1,0,0,2,2,2,2,2,2,2,0,2,2,2,2,2,2,1,0,2,2,2,2,2,2,3,3,2,3,1,2,0,1,2,3,2,2,3,3,3,3,3,3,3,2,2,3,2,0,2,2,1,0,2,2,0,0,1,2,0,0,0,1,0,1,1,3,1,0,1,1,2,0,1,1,0,1,0,0,3,0,1,1,3,1,1,1,3,0,2,1,0,0,1,0,0,2,1,0,2,0,2]"
      ]
    },
    {
      "cell_type": "code",
      "source": [
        "mean=np.mean(Forgetfulness)\n",
        "mean"
      ],
      "metadata": {
        "colab": {
          "base_uri": "https://localhost:8080/"
        },
        "id": "7_ipxBwV1_4b",
        "outputId": "90ed3e84-c30e-41ef-e7fb-66f5ea9fc6ff"
      },
      "execution_count": 51,
      "outputs": [
        {
          "output_type": "execute_result",
          "data": {
            "text/plain": [
              "1.3221476510067114"
            ]
          },
          "metadata": {},
          "execution_count": 51
        }
      ]
    },
    {
      "cell_type": "code",
      "source": [
        "median=np.median(Forgetfulness)\n",
        "median"
      ],
      "metadata": {
        "colab": {
          "base_uri": "https://localhost:8080/"
        },
        "id": "a0iSHqHi2IOJ",
        "outputId": "ed8188f4-df62-4192-c02e-642cb6bfed0c"
      },
      "execution_count": 52,
      "outputs": [
        {
          "output_type": "execute_result",
          "data": {
            "text/plain": [
              "1.0"
            ]
          },
          "metadata": {},
          "execution_count": 52
        }
      ]
    },
    {
      "cell_type": "code",
      "source": [
        "import statistics as stats\n",
        "stats.mode(Forgetfulness)"
      ],
      "metadata": {
        "colab": {
          "base_uri": "https://localhost:8080/"
        },
        "id": "Z6dgQy_sSQBw",
        "outputId": "b0bce220-a96a-4ca8-9628-7f1159b69b0c"
      },
      "execution_count": 53,
      "outputs": [
        {
          "output_type": "execute_result",
          "data": {
            "text/plain": [
              "2"
            ]
          },
          "metadata": {},
          "execution_count": 53
        }
      ]
    },
    {
      "cell_type": "code",
      "source": [
        "np.var(Forgetfulness)"
      ],
      "metadata": {
        "colab": {
          "base_uri": "https://localhost:8080/"
        },
        "id": "E_DdDi917bez",
        "outputId": "e8d60987-26c1-4036-c820-45dbe21c5bc2"
      },
      "execution_count": 54,
      "outputs": [
        {
          "output_type": "execute_result",
          "data": {
            "text/plain": [
              "1.0908517634340795"
            ]
          },
          "metadata": {},
          "execution_count": 54
        }
      ]
    },
    {
      "cell_type": "code",
      "source": [
        "std=np.std(Forgetfulness)\n",
        "std"
      ],
      "metadata": {
        "colab": {
          "base_uri": "https://localhost:8080/"
        },
        "id": "e-ol_3h779EW",
        "outputId": "871af431-d0c7-48ea-8a90-5d6202f25c50"
      },
      "execution_count": 55,
      "outputs": [
        {
          "output_type": "execute_result",
          "data": {
            "text/plain": [
              "1.0444384919343406"
            ]
          },
          "metadata": {},
          "execution_count": 55
        }
      ]
    }
  ]
}