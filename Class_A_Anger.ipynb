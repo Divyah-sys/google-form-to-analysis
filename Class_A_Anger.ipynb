{
  "nbformat": 4,
  "nbformat_minor": 0,
  "metadata": {
    "colab": {
      "name": "Class A - Anger",
      "provenance": [],
      "collapsed_sections": [],
      "authorship_tag": "ABX9TyNj/eHVeuPSt8o3TQgn/7QV",
      "include_colab_link": true
    },
    "kernelspec": {
      "name": "python3",
      "display_name": "Python 3"
    },
    "language_info": {
      "name": "python"
    }
  },
  "cells": [
    {
      "cell_type": "markdown",
      "metadata": {
        "id": "view-in-github",
        "colab_type": "text"
      },
      "source": [
        "<a href=\"https://colab.research.google.com/github/Divyah-sys/google-form-to-analysis/blob/main/Class_A_Anger.ipynb\" target=\"_parent\"><img src=\"https://colab.research.google.com/assets/colab-badge.svg\" alt=\"Open In Colab\"/></a>"
      ]
    },
    {
      "cell_type": "code",
      "execution_count": 12,
      "metadata": {
        "id": "x-gxt6Au0AP8"
      },
      "outputs": [],
      "source": [
        "import numpy as np\n",
        "Anger=[2,3,1,2,2,2,2,2,3,2,0,2,1,1,2,1,2,0,1,0,3,1,2,1,0,0,1,1,3,3,0,3,2,2,2,0,1,0,0,1,0,3,1,2,1,2,1,1,3,0,3,2,2,3,2,2,2,0,1,2,3,2,2,1,2,2,2,1,2,1,1,2,2,3,3,3,3,1,3,1,1,3,2,1,2,3,3,2,3,3,2,3,3,1,3,3,2,2,3,2,2,3,3,1,0,2,0,0,0,1,0,2,3,1,3,2,1,3,1,2,3,0,1,2,1,0,0,2,2,3,2,2,2,2,2,3,0,3,1,2,0,2,1,0,2,1,2,1,2,1]"
      ]
    },
    {
      "cell_type": "code",
      "source": [
        "mean=np.mean(Anger)\n",
        "mean"
      ],
      "metadata": {
        "colab": {
          "base_uri": "https://localhost:8080/"
        },
        "id": "7_ipxBwV1_4b",
        "outputId": "88e90090-dd24-4ab8-8a35-b5d41f839a7a"
      },
      "execution_count": 13,
      "outputs": [
        {
          "output_type": "execute_result",
          "data": {
            "text/plain": [
              "1.68"
            ]
          },
          "metadata": {},
          "execution_count": 13
        }
      ]
    },
    {
      "cell_type": "code",
      "source": [
        "median=np.median(Anger)\n",
        "median"
      ],
      "metadata": {
        "colab": {
          "base_uri": "https://localhost:8080/"
        },
        "id": "a0iSHqHi2IOJ",
        "outputId": "99c874f7-8c2f-493e-c426-f578ca9ab88e"
      },
      "execution_count": 14,
      "outputs": [
        {
          "output_type": "execute_result",
          "data": {
            "text/plain": [
              "2.0"
            ]
          },
          "metadata": {},
          "execution_count": 14
        }
      ]
    },
    {
      "cell_type": "code",
      "source": [
        "import statistics as stats\n",
        "stats.mode(Anger)"
      ],
      "metadata": {
        "colab": {
          "base_uri": "https://localhost:8080/"
        },
        "id": "Z6dgQy_sSQBw",
        "outputId": "8904f953-d84b-4c46-dfb9-492a2b02ce62"
      },
      "execution_count": 6,
      "outputs": [
        {
          "output_type": "execute_result",
          "data": {
            "text/plain": [
              "1"
            ]
          },
          "metadata": {},
          "execution_count": 6
        }
      ]
    },
    {
      "cell_type": "code",
      "source": [
        "np.var(Anger)"
      ],
      "metadata": {
        "colab": {
          "base_uri": "https://localhost:8080/"
        },
        "id": "E_DdDi917bez",
        "outputId": "09d37fa7-7d74-4913-b82b-e3b0ce64ca63"
      },
      "execution_count": 15,
      "outputs": [
        {
          "output_type": "execute_result",
          "data": {
            "text/plain": [
              "0.9909333333333334"
            ]
          },
          "metadata": {},
          "execution_count": 15
        }
      ]
    },
    {
      "cell_type": "code",
      "source": [
        "std=np.std(Anger)\n",
        "std"
      ],
      "metadata": {
        "colab": {
          "base_uri": "https://localhost:8080/"
        },
        "id": "e-ol_3h779EW",
        "outputId": "ddecc74c-debd-45e9-d6ca-ab75d1ebc163"
      },
      "execution_count": 16,
      "outputs": [
        {
          "output_type": "execute_result",
          "data": {
            "text/plain": [
              "0.9954563442629383"
            ]
          },
          "metadata": {},
          "execution_count": 16
        }
      ]
    }
  ]
}