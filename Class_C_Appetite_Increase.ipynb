{
  "nbformat": 4,
  "nbformat_minor": 0,
  "metadata": {
    "colab": {
      "name": "Class C -  Appetite Increase",
      "provenance": [],
      "collapsed_sections": [],
      "authorship_tag": "ABX9TyMSDVD0wOk7rG5d7onbW3be",
      "include_colab_link": true
    },
    "kernelspec": {
      "name": "python3",
      "display_name": "Python 3"
    },
    "language_info": {
      "name": "python"
    }
  },
  "cells": [
    {
      "cell_type": "markdown",
      "metadata": {
        "id": "view-in-github",
        "colab_type": "text"
      },
      "source": [
        "<a href=\"https://colab.research.google.com/github/Divyah-sys/google-form-to-analysis/blob/main/Class_C_Appetite_Increase.ipynb\" target=\"_parent\"><img src=\"https://colab.research.google.com/assets/colab-badge.svg\" alt=\"Open In Colab\"/></a>"
      ]
    },
    {
      "cell_type": "code",
      "execution_count": 78,
      "metadata": {
        "id": "x-gxt6Au0AP8"
      },
      "outputs": [],
      "source": [
        "import numpy as np\n",
        "AppetiteIncrease = [2,2,2,1,1,2,2,2,3,2,3,2,1,2,2,1,2,0,2,0,3,0,2,0,1,0,0,1,0,2,2,0,0,1,3,0,0,0,0,0,1,1,0,3,1,0,0,2,2,1,3,2,2,2,2,2,2,0,1,2,2,2,2,1,2,0,2,2,2,2,2,2,2,3,3,3,3,0,1,3,1,3,2,2,3,3,3,3,3,3,3,3,0,1,3,0,0,1,2,2,0,3,2,0,0,1,2,0,0,0,0,0,2,1,2,1,0,1,1,2,0,0,1,2,1,0,0,0,1,2,2,1,1,1,1,3,0,1,0,0,1,0,0,0,2,1,2,0,0,2]"
      ]
    },
    {
      "cell_type": "code",
      "source": [
        "mean=np.mean(AppetiteIncrease)\n",
        "mean"
      ],
      "metadata": {
        "colab": {
          "base_uri": "https://localhost:8080/"
        },
        "id": "7_ipxBwV1_4b",
        "outputId": "46a94a42-e2ca-40b0-f3d0-532b0afe3e0f"
      },
      "execution_count": 79,
      "outputs": [
        {
          "output_type": "execute_result",
          "data": {
            "text/plain": [
              "1.34"
            ]
          },
          "metadata": {},
          "execution_count": 79
        }
      ]
    },
    {
      "cell_type": "code",
      "source": [
        "median=np.median(AppetiteIncrease)\n",
        "median"
      ],
      "metadata": {
        "colab": {
          "base_uri": "https://localhost:8080/"
        },
        "id": "a0iSHqHi2IOJ",
        "outputId": "ecbb7f81-ed41-402e-f00a-abba114b2b39"
      },
      "execution_count": 80,
      "outputs": [
        {
          "output_type": "execute_result",
          "data": {
            "text/plain": [
              "1.0"
            ]
          },
          "metadata": {},
          "execution_count": 80
        }
      ]
    },
    {
      "cell_type": "code",
      "source": [
        "import statistics as stats\n",
        "stats.mode(AppetiteIncrease)"
      ],
      "metadata": {
        "colab": {
          "base_uri": "https://localhost:8080/"
        },
        "id": "IR6MuS9ZkzdJ",
        "outputId": "7eee65a3-948d-4cac-a025-f806377e31d6"
      },
      "execution_count": 81,
      "outputs": [
        {
          "output_type": "execute_result",
          "data": {
            "text/plain": [
              "2"
            ]
          },
          "metadata": {},
          "execution_count": 81
        }
      ]
    },
    {
      "cell_type": "code",
      "source": [
        "np.var(AppetiteIncrease)"
      ],
      "metadata": {
        "colab": {
          "base_uri": "https://localhost:8080/"
        },
        "id": "E_DdDi917bez",
        "outputId": "43f30c1b-d1cf-4417-c671-d190ba5e5f1f"
      },
      "execution_count": 82,
      "outputs": [
        {
          "output_type": "execute_result",
          "data": {
            "text/plain": [
              "1.1310666666666667"
            ]
          },
          "metadata": {},
          "execution_count": 82
        }
      ]
    },
    {
      "cell_type": "code",
      "source": [
        "std=np.std(AppetiteIncrease)\n",
        "std"
      ],
      "metadata": {
        "colab": {
          "base_uri": "https://localhost:8080/"
        },
        "id": "e-ol_3h779EW",
        "outputId": "5d1c6cf4-5657-42c2-f21f-f56ed59c57a0"
      },
      "execution_count": 83,
      "outputs": [
        {
          "output_type": "execute_result",
          "data": {
            "text/plain": [
              "1.063516180726305"
            ]
          },
          "metadata": {},
          "execution_count": 83
        }
      ]
    }
  ]
}