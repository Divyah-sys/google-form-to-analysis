{
  "nbformat": 4,
  "nbformat_minor": 0,
  "metadata": {
    "colab": {
      "name": "Class D -  Swollen Extremities",
      "provenance": [],
      "collapsed_sections": [],
      "authorship_tag": "ABX9TyPT9bh5DPG7HzEZRFFHGvOO",
      "include_colab_link": true
    },
    "kernelspec": {
      "name": "python3",
      "display_name": "Python 3"
    },
    "language_info": {
      "name": "python"
    }
  },
  "cells": [
    {
      "cell_type": "markdown",
      "metadata": {
        "id": "view-in-github",
        "colab_type": "text"
      },
      "source": [
        "<a href=\"https://colab.research.google.com/github/Divyah-sys/google-form-to-analysis/blob/main/Class_D_Swollen_Extremities.ipynb\" target=\"_parent\"><img src=\"https://colab.research.google.com/assets/colab-badge.svg\" alt=\"Open In Colab\"/></a>"
      ]
    },
    {
      "cell_type": "code",
      "execution_count": 108,
      "metadata": {
        "id": "x-gxt6Au0AP8"
      },
      "outputs": [],
      "source": [
        "import numpy as np\n",
        "SwollenExtremities =[2,2,2,2,1,2,2,2,3,2,2,2,1,1,2,1,2,0,1,0,2,0,2,0,2,0,0,1,0,1,0,2,1,2,0,0,0,0,0,0,0,1,0,3,1,0,0,3,0,0,3,2,3,2,2,2,2,0,0,2,2,2,2,2,2,2,2,2,2,2,2,3,3,3,2,0,1,0,0,2,3,2,3,3,3,3,2,2,2,3,0,0,2,0,1,0,0,1,0,0,2,0,0,0,2,0,0,0,0,0,2,0,1,1,0,1,1,2,0,1,0,2,1,0,0,0,3,0,2,0,1,1,1,0,0,1,0,0,1,0,0,0,2,1,1,1,0,0]"
      ]
    },
    {
      "cell_type": "code",
      "source": [
        "mean=np.mean(SwollenExtremities)\n",
        "mean"
      ],
      "metadata": {
        "colab": {
          "base_uri": "https://localhost:8080/"
        },
        "id": "7_ipxBwV1_4b",
        "outputId": "8545d6d1-a04c-4403-e84d-eda0d07a6564"
      },
      "execution_count": 109,
      "outputs": [
        {
          "output_type": "execute_result",
          "data": {
            "text/plain": [
              "1.135135135135135"
            ]
          },
          "metadata": {},
          "execution_count": 109
        }
      ]
    },
    {
      "cell_type": "code",
      "source": [
        "median=np.median(SwollenExtremities)\n",
        "median"
      ],
      "metadata": {
        "colab": {
          "base_uri": "https://localhost:8080/"
        },
        "id": "a0iSHqHi2IOJ",
        "outputId": "4b8f0310-4968-417b-d838-b6824f421b58"
      },
      "execution_count": 110,
      "outputs": [
        {
          "output_type": "execute_result",
          "data": {
            "text/plain": [
              "1.0"
            ]
          },
          "metadata": {},
          "execution_count": 110
        }
      ]
    },
    {
      "cell_type": "code",
      "source": [
        "import statistics as stats\n",
        "stats.mode(SwollenExtremities)"
      ],
      "metadata": {
        "colab": {
          "base_uri": "https://localhost:8080/"
        },
        "id": "IR6MuS9ZkzdJ",
        "outputId": "fc70ab7a-ae23-481e-96ef-fe3c3d06fcfb"
      },
      "execution_count": 111,
      "outputs": [
        {
          "output_type": "execute_result",
          "data": {
            "text/plain": [
              "0"
            ]
          },
          "metadata": {},
          "execution_count": 111
        }
      ]
    },
    {
      "cell_type": "code",
      "source": [
        "np.var(SwollenExtremities)"
      ],
      "metadata": {
        "colab": {
          "base_uri": "https://localhost:8080/"
        },
        "id": "E_DdDi917bez",
        "outputId": "163f2cb0-9399-4c6d-a3c6-48bd599c1ba5"
      },
      "execution_count": 112,
      "outputs": [
        {
          "output_type": "execute_result",
          "data": {
            "text/plain": [
              "1.1033601168736304"
            ]
          },
          "metadata": {},
          "execution_count": 112
        }
      ]
    },
    {
      "cell_type": "code",
      "source": [
        "std=np.std(SwollenExtremities)\n",
        "std"
      ],
      "metadata": {
        "colab": {
          "base_uri": "https://localhost:8080/"
        },
        "id": "e-ol_3h779EW",
        "outputId": "8e9608ac-8746-4427-daed-1e06bf1a900f"
      },
      "execution_count": 113,
      "outputs": [
        {
          "output_type": "execute_result",
          "data": {
            "text/plain": [
              "1.0504094996112852"
            ]
          },
          "metadata": {},
          "execution_count": 113
        }
      ]
    }
  ]
}