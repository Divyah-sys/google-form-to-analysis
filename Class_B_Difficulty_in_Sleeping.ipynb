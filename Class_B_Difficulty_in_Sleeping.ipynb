{
  "nbformat": 4,
  "nbformat_minor": 0,
  "metadata": {
    "colab": {
      "name": "Class B - Difficulty in Sleeping",
      "provenance": [],
      "collapsed_sections": [],
      "authorship_tag": "ABX9TyOA2wMK6QwGjMjVPWap40xS",
      "include_colab_link": true
    },
    "kernelspec": {
      "name": "python3",
      "display_name": "Python 3"
    },
    "language_info": {
      "name": "python"
    }
  },
  "cells": [
    {
      "cell_type": "markdown",
      "metadata": {
        "id": "view-in-github",
        "colab_type": "text"
      },
      "source": [
        "<a href=\"https://colab.research.google.com/github/Divyah-sys/google-form-to-analysis/blob/main/Class_B_Difficulty_in_Sleeping.ipynb\" target=\"_parent\"><img src=\"https://colab.research.google.com/assets/colab-badge.svg\" alt=\"Open In Colab\"/></a>"
      ]
    },
    {
      "cell_type": "code",
      "execution_count": 57,
      "metadata": {
        "id": "x-gxt6Au0AP8"
      },
      "outputs": [],
      "source": [
        "import numpy as np\n",
        "DifficultyinSleeping = [2,3,3,3,2,1,3,2,3,3,2,2,1,1,1,1,0,1,0,3,0,2,0,1,0,0,3,0,1,0,3,1,1,3,0,0,0,1,0,1,2,1,0,2,2,0,2,2,2,2,2,2,0,2,2,2,2,2,2,2,1,1,2,2,2,2,2,2,3,3,2,3,1,3,0,1,2,3,2,2,3,3,3,3,3,3,3,2,2,3,2,3,2,3,1,1,1,1,1,0,1,3,0,0,0,1,0,1,0,0,2,1,1,1,2,3,1,3,1,1,0,1,3,3,2,0,2,3,2,2,3,0,3,1,1,1,1,2,1,2,1,2,3,0,0]"
      ]
    },
    {
      "cell_type": "code",
      "source": [
        "mean=np.mean(DifficultyinSleeping)\n",
        "mean"
      ],
      "metadata": {
        "colab": {
          "base_uri": "https://localhost:8080/"
        },
        "id": "7_ipxBwV1_4b",
        "outputId": "27e738bc-2142-4ac9-b5b1-48a71cac46e3"
      },
      "execution_count": 58,
      "outputs": [
        {
          "output_type": "execute_result",
          "data": {
            "text/plain": [
              "1.5862068965517242"
            ]
          },
          "metadata": {},
          "execution_count": 58
        }
      ]
    },
    {
      "cell_type": "code",
      "source": [
        "median=np.median(DifficultyinSleeping)\n",
        "median"
      ],
      "metadata": {
        "colab": {
          "base_uri": "https://localhost:8080/"
        },
        "id": "a0iSHqHi2IOJ",
        "outputId": "0156fe33-bf13-4222-fd95-4629a0245a2f"
      },
      "execution_count": 59,
      "outputs": [
        {
          "output_type": "execute_result",
          "data": {
            "text/plain": [
              "2.0"
            ]
          },
          "metadata": {},
          "execution_count": 59
        }
      ]
    },
    {
      "cell_type": "code",
      "source": [
        "import statistics as stats\n",
        "stats.mode(DifficultyinSleeping)"
      ],
      "metadata": {
        "colab": {
          "base_uri": "https://localhost:8080/"
        },
        "id": "Z6dgQy_sSQBw",
        "outputId": "68fd3c07-13e2-418b-b303-3dc35dd00c97"
      },
      "execution_count": 60,
      "outputs": [
        {
          "output_type": "execute_result",
          "data": {
            "text/plain": [
              "2"
            ]
          },
          "metadata": {},
          "execution_count": 60
        }
      ]
    },
    {
      "cell_type": "code",
      "source": [
        "np.var(DifficultyinSleeping)"
      ],
      "metadata": {
        "colab": {
          "base_uri": "https://localhost:8080/"
        },
        "id": "E_DdDi917bez",
        "outputId": "40d7e92d-c4d2-4f93-d02b-8bd11e85f4e8"
      },
      "execution_count": 61,
      "outputs": [
        {
          "output_type": "execute_result",
          "data": {
            "text/plain": [
              "1.097740784780024"
            ]
          },
          "metadata": {},
          "execution_count": 61
        }
      ]
    },
    {
      "cell_type": "code",
      "source": [
        "std=np.std(DifficultyinSleeping)\n",
        "std"
      ],
      "metadata": {
        "colab": {
          "base_uri": "https://localhost:8080/"
        },
        "id": "e-ol_3h779EW",
        "outputId": "871af431-d0c7-48ea-8a90-5d6202f25c50"
      },
      "execution_count": 55,
      "outputs": [
        {
          "output_type": "execute_result",
          "data": {
            "text/plain": [
              "1.0444384919343406"
            ]
          },
          "metadata": {},
          "execution_count": 55
        }
      ]
    }
  ]
}