{
  "nbformat": 4,
  "nbformat_minor": 0,
  "metadata": {
    "colab": {
      "name": "Class D -  Abdominal Bloating",
      "provenance": [],
      "collapsed_sections": [],
      "authorship_tag": "ABX9TyPn08ZeDC05gotaaCXzi8+Y",
      "include_colab_link": true
    },
    "kernelspec": {
      "name": "python3",
      "display_name": "Python 3"
    },
    "language_info": {
      "name": "python"
    }
  },
  "cells": [
    {
      "cell_type": "markdown",
      "metadata": {
        "id": "view-in-github",
        "colab_type": "text"
      },
      "source": [
        "<a href=\"https://colab.research.google.com/github/Divyah-sys/google-form-to-analysis/blob/main/Class_D_Abdominal_Bloating.ipynb\" target=\"_parent\"><img src=\"https://colab.research.google.com/assets/colab-badge.svg\" alt=\"Open In Colab\"/></a>"
      ]
    },
    {
      "cell_type": "code",
      "execution_count": 120,
      "metadata": {
        "id": "x-gxt6Au0AP8"
      },
      "outputs": [],
      "source": [
        "import numpy as np\n",
        "AbdominalBloating = [2,2,2,3,2,2,2,2,3,2,2,2,1,2,1,2,0,1,0,2,1,2,1,1,2,0,2,0,3,2,2,1,2,2,0,0,0,0,0,0,3,0,2,1,2,0,2,2,0,3,2,3,2,2,2,2,0,0,2,1,2,2,3,2,0,2,2,2,2,2,2,3,3,3,2,0,2,3,1,2,3,2,3,3,3,3,3,2,2,3,0,2,3,2,0,2,0,1,2,2,2,0,0,0,2,0,0,0,0,0,2,0,2,2,2,1,1,2,0,1,0,2,1,1,2,2,2,2,1,0,2,1,1,0,0,2,0,2,0,0,1,1,2,1,1,0,2,1]"
      ]
    },
    {
      "cell_type": "code",
      "source": [
        "mean=np.mean(AbdominalBloating)\n",
        "mean"
      ],
      "metadata": {
        "colab": {
          "base_uri": "https://localhost:8080/"
        },
        "id": "7_ipxBwV1_4b",
        "outputId": "ed941d47-07e8-4f23-c355-0a61f771511e"
      },
      "execution_count": 121,
      "outputs": [
        {
          "output_type": "execute_result",
          "data": {
            "text/plain": [
              "1.4527027027027026"
            ]
          },
          "metadata": {},
          "execution_count": 121
        }
      ]
    },
    {
      "cell_type": "code",
      "source": [
        "median=np.median(AbdominalBloating)\n",
        "median"
      ],
      "metadata": {
        "colab": {
          "base_uri": "https://localhost:8080/"
        },
        "id": "a0iSHqHi2IOJ",
        "outputId": "20b33f41-f4c2-459e-cfe8-3ec0151439ab"
      },
      "execution_count": 122,
      "outputs": [
        {
          "output_type": "execute_result",
          "data": {
            "text/plain": [
              "2.0"
            ]
          },
          "metadata": {},
          "execution_count": 122
        }
      ]
    },
    {
      "cell_type": "code",
      "source": [
        "import statistics as stats\n",
        "stats.mode(AbdominalBloating)"
      ],
      "metadata": {
        "colab": {
          "base_uri": "https://localhost:8080/"
        },
        "id": "IR6MuS9ZkzdJ",
        "outputId": "5d1a61b4-8765-4820-92ea-127089837257"
      },
      "execution_count": 123,
      "outputs": [
        {
          "output_type": "execute_result",
          "data": {
            "text/plain": [
              "2"
            ]
          },
          "metadata": {},
          "execution_count": 123
        }
      ]
    },
    {
      "cell_type": "code",
      "source": [
        "np.var(AbdominalBloating)"
      ],
      "metadata": {
        "colab": {
          "base_uri": "https://localhost:8080/"
        },
        "id": "E_DdDi917bez",
        "outputId": "7fe9f2fc-e75d-4f21-f8c5-d06f1835ab91"
      },
      "execution_count": 124,
      "outputs": [
        {
          "output_type": "execute_result",
          "data": {
            "text/plain": [
              "1.0180332359386417"
            ]
          },
          "metadata": {},
          "execution_count": 124
        }
      ]
    },
    {
      "cell_type": "code",
      "source": [
        "std=np.std(AbdominalBloating)\n",
        "std"
      ],
      "metadata": {
        "colab": {
          "base_uri": "https://localhost:8080/"
        },
        "id": "e-ol_3h779EW",
        "outputId": "e9fc02e5-277c-4c03-a1ea-b585449dae4e"
      },
      "execution_count": 125,
      "outputs": [
        {
          "output_type": "execute_result",
          "data": {
            "text/plain": [
              "1.0089763307127881"
            ]
          },
          "metadata": {},
          "execution_count": 125
        }
      ]
    }
  ]
}