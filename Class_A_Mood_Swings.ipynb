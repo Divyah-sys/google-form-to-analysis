{
  "nbformat": 4,
  "nbformat_minor": 0,
  "metadata": {
    "colab": {
      "name": "Class A - Mood Swings",
      "provenance": [],
      "collapsed_sections": [],
      "authorship_tag": "ABX9TyPJUTMs7pJ5us/ZWtOONZGp",
      "include_colab_link": true
    },
    "kernelspec": {
      "name": "python3",
      "display_name": "Python 3"
    },
    "language_info": {
      "name": "python"
    }
  },
  "cells": [
    {
      "cell_type": "markdown",
      "metadata": {
        "id": "view-in-github",
        "colab_type": "text"
      },
      "source": [
        "<a href=\"https://colab.research.google.com/github/Divyah-sys/google-form-to-analysis/blob/main/Class_A_Mood_Swings.ipynb\" target=\"_parent\"><img src=\"https://colab.research.google.com/assets/colab-badge.svg\" alt=\"Open In Colab\"/></a>"
      ]
    },
    {
      "cell_type": "code",
      "execution_count": 19,
      "metadata": {
        "id": "x-gxt6Au0AP8"
      },
      "outputs": [],
      "source": [
        "import numpy as np\n",
        "MoodSwings=[2,1,1,3,2,1,2,2,3,1,1,1,2,1,2,1,0,1,0,3,1,2,1,0,1,0,1,3,3,2,3,2,2,1,2,1,0,1,2,1,2,1,0,1,2,0,1,2,1,3,2,2,3,2,2,2,0,1,2,3,2,2,2,2,1,2,1,2,1,1,2,2,3,3,3,3,1,3,1,1,3,2,1,2,3,3,2,3,3,2,3,2,3,2,3,2,3,3,1,2,2,2,0,2,0,0,1,1,0,2,2,3,2,3,0,3,1,2,3,2,0,2,1,0,0,2,2,2,0,2,3,1,1,3,0,1,1,0,1,0,0,0,2,1,2,1,2,2,0]"
      ]
    },
    {
      "cell_type": "code",
      "source": [
        "mean=np.mean(MoodSwings)\n",
        "mean"
      ],
      "metadata": {
        "colab": {
          "base_uri": "https://localhost:8080/"
        },
        "id": "7_ipxBwV1_4b",
        "outputId": "d17fc7c0-2c9f-4860-c441-89c14ebe595a"
      },
      "execution_count": 20,
      "outputs": [
        {
          "output_type": "execute_result",
          "data": {
            "text/plain": [
              "1.610738255033557"
            ]
          },
          "metadata": {},
          "execution_count": 20
        }
      ]
    },
    {
      "cell_type": "code",
      "source": [
        "median=np.median(MoodSwings)\n",
        "median"
      ],
      "metadata": {
        "colab": {
          "base_uri": "https://localhost:8080/"
        },
        "id": "a0iSHqHi2IOJ",
        "outputId": "b020f985-9ef8-484c-c35b-cc1a94a14397"
      },
      "execution_count": 21,
      "outputs": [
        {
          "output_type": "execute_result",
          "data": {
            "text/plain": [
              "2.0"
            ]
          },
          "metadata": {},
          "execution_count": 21
        }
      ]
    },
    {
      "cell_type": "code",
      "source": [
        "import statistics as stats\n",
        "stats.mode(MoodSwings)"
      ],
      "metadata": {
        "colab": {
          "base_uri": "https://localhost:8080/"
        },
        "id": "Z6dgQy_sSQBw",
        "outputId": "6738c34e-9235-42f9-b547-e9c1098fbe31"
      },
      "execution_count": 22,
      "outputs": [
        {
          "output_type": "execute_result",
          "data": {
            "text/plain": [
              "2"
            ]
          },
          "metadata": {},
          "execution_count": 22
        }
      ]
    },
    {
      "cell_type": "code",
      "source": [
        "np.var(MoodSwings)"
      ],
      "metadata": {
        "colab": {
          "base_uri": "https://localhost:8080/"
        },
        "id": "E_DdDi917bez",
        "outputId": "e57cc450-d266-4510-f021-35ba6649c73c"
      },
      "execution_count": 23,
      "outputs": [
        {
          "output_type": "execute_result",
          "data": {
            "text/plain": [
              "0.9491464348452774"
            ]
          },
          "metadata": {},
          "execution_count": 23
        }
      ]
    },
    {
      "cell_type": "code",
      "source": [
        "std=np.std(MoodSwings)\n",
        "std"
      ],
      "metadata": {
        "colab": {
          "base_uri": "https://localhost:8080/"
        },
        "id": "e-ol_3h779EW",
        "outputId": "243e2fd8-8afb-4b4c-c697-2fa27c53d435"
      },
      "execution_count": 24,
      "outputs": [
        {
          "output_type": "execute_result",
          "data": {
            "text/plain": [
              "0.9742414663959225"
            ]
          },
          "metadata": {},
          "execution_count": 24
        }
      ]
    }
  ]
}