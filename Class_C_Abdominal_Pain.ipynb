{
  "nbformat": 4,
  "nbformat_minor": 0,
  "metadata": {
    "colab": {
      "name": "Class C -  Abdominal Pain",
      "provenance": [],
      "collapsed_sections": [],
      "authorship_tag": "ABX9TyO+TroSAOgJNxFeHVnli1w5",
      "include_colab_link": true
    },
    "kernelspec": {
      "name": "python3",
      "display_name": "Python 3"
    },
    "language_info": {
      "name": "python"
    }
  },
  "cells": [
    {
      "cell_type": "markdown",
      "metadata": {
        "id": "view-in-github",
        "colab_type": "text"
      },
      "source": [
        "<a href=\"https://colab.research.google.com/github/Divyah-sys/google-form-to-analysis/blob/main/Class_C_Abdominal_Pain.ipynb\" target=\"_parent\"><img src=\"https://colab.research.google.com/assets/colab-badge.svg\" alt=\"Open In Colab\"/></a>"
      ]
    },
    {
      "cell_type": "code",
      "execution_count": 102,
      "metadata": {
        "id": "x-gxt6Au0AP8"
      },
      "outputs": [],
      "source": [
        "import numpy as np\n",
        "AbdominalPain = [2,3,3,3,3,2,2,2,3,2,2,3,3,2,2,1,2,0,2,0,3,2,2,0,1,2,2,1,3,3,3,3,0,1,3,2,1,2,2,1,1,3,0,3,1,2,1,3,2,0,3,2,2,2,2,2,2,1,1,2,2,2,2,2,2,2,2,2,2,2,2,2,2,3,3,3,3,0,3,3,2,3,2,2,3,3,3,3,3,3,3,3,2,3,3,3,2,1,3,2,2,2,2,0,0,3,2,2,0,0,0,2,2,1,2,1,2,1,1,2,1,2,2,2,1,0,0,2,3,3,0,3,3,1,1,3,3,1,1,2,1,2,1,1,2,1,2,2,1,1]"
      ]
    },
    {
      "cell_type": "code",
      "source": [
        "mean=np.mean(AbdominalPain)\n",
        "mean"
      ],
      "metadata": {
        "colab": {
          "base_uri": "https://localhost:8080/"
        },
        "id": "7_ipxBwV1_4b",
        "outputId": "dc41af88-5bf1-4ed7-dd80-79e1bfdf9ce2"
      },
      "execution_count": 103,
      "outputs": [
        {
          "output_type": "execute_result",
          "data": {
            "text/plain": [
              "1.9"
            ]
          },
          "metadata": {},
          "execution_count": 103
        }
      ]
    },
    {
      "cell_type": "code",
      "source": [
        "median=np.median(AbdominalPain)\n",
        "median"
      ],
      "metadata": {
        "colab": {
          "base_uri": "https://localhost:8080/"
        },
        "id": "a0iSHqHi2IOJ",
        "outputId": "4b756fb7-5978-4dce-cb1f-0a6daab400ee"
      },
      "execution_count": 104,
      "outputs": [
        {
          "output_type": "execute_result",
          "data": {
            "text/plain": [
              "2.0"
            ]
          },
          "metadata": {},
          "execution_count": 104
        }
      ]
    },
    {
      "cell_type": "code",
      "source": [
        "import statistics as stats\n",
        "stats.mode(AbdominalPain)"
      ],
      "metadata": {
        "colab": {
          "base_uri": "https://localhost:8080/"
        },
        "id": "IR6MuS9ZkzdJ",
        "outputId": "0e6fce4c-d50d-4523-bfff-9c31496ddc5f"
      },
      "execution_count": 105,
      "outputs": [
        {
          "output_type": "execute_result",
          "data": {
            "text/plain": [
              "2"
            ]
          },
          "metadata": {},
          "execution_count": 105
        }
      ]
    },
    {
      "cell_type": "code",
      "source": [
        "np.var(AbdominalPain)"
      ],
      "metadata": {
        "colab": {
          "base_uri": "https://localhost:8080/"
        },
        "id": "E_DdDi917bez",
        "outputId": "24e7dba6-27a8-4647-f035-9bd0f170f806"
      },
      "execution_count": 106,
      "outputs": [
        {
          "output_type": "execute_result",
          "data": {
            "text/plain": [
              "0.8633333333333333"
            ]
          },
          "metadata": {},
          "execution_count": 106
        }
      ]
    },
    {
      "cell_type": "code",
      "source": [
        "std=np.std(AbdominalPain)\n",
        "std"
      ],
      "metadata": {
        "colab": {
          "base_uri": "https://localhost:8080/"
        },
        "id": "e-ol_3h779EW",
        "outputId": "b85eec80-fe8c-447c-ddb8-71d03b049573"
      },
      "execution_count": 107,
      "outputs": [
        {
          "output_type": "execute_result",
          "data": {
            "text/plain": [
              "0.9291573243177569"
            ]
          },
          "metadata": {},
          "execution_count": 107
        }
      ]
    }
  ]
}