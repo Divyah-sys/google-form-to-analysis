{
  "nbformat": 4,
  "nbformat_minor": 0,
  "metadata": {
    "colab": {
      "name": "Class D -  WeightGain",
      "provenance": [],
      "collapsed_sections": [],
      "authorship_tag": "ABX9TyOEPHqFtKURBTDUA4XjXQgv",
      "include_colab_link": true
    },
    "kernelspec": {
      "name": "python3",
      "display_name": "Python 3"
    },
    "language_info": {
      "name": "python"
    }
  },
  "cells": [
    {
      "cell_type": "markdown",
      "metadata": {
        "id": "view-in-github",
        "colab_type": "text"
      },
      "source": [
        "<a href=\"https://colab.research.google.com/github/Divyah-sys/google-form-to-analysis/blob/main/Class_D_WeightGain.ipynb\" target=\"_parent\"><img src=\"https://colab.research.google.com/assets/colab-badge.svg\" alt=\"Open In Colab\"/></a>"
      ]
    },
    {
      "cell_type": "code",
      "execution_count": 126,
      "metadata": {
        "id": "x-gxt6Au0AP8"
      },
      "outputs": [],
      "source": [
        "import numpy as np\n",
        "weightGain = [2,1,2,2,0,1,2,1,3,2,0,3,1,1,2,1,2,0,1,0,1,0,2,0,0,2,0,1,0,0,0,2,1,2,1,0,0,0,0,0,0,0,0,0,1,0,0,1,0,0,1,2,3,2,2,2,2,0,0,2,1,2,2,1,2,1,2,2,2,2,2,2,3,3,3,2,0,1,3,0,2,3,2,3,3,3,3,3,2,2,3,0,0,2,0,0,2,0,0,0,1,2,0,0,0,2,0,0,0,0,1,2,0,0,1,0,0,1,2,0,0,0,0,1,0,1,0,2,1,1,0,1,2,3,0,1,1,0,0,1,1,1,1,2,1,0,0,3,2]"
      ]
    },
    {
      "cell_type": "code",
      "source": [
        "mean=np.mean(weightGain)\n",
        "mean"
      ],
      "metadata": {
        "colab": {
          "base_uri": "https://localhost:8080/"
        },
        "id": "7_ipxBwV1_4b",
        "outputId": "9e6a0236-0ad1-4fab-a042-52cb1b52d85f"
      },
      "execution_count": 127,
      "outputs": [
        {
          "output_type": "execute_result",
          "data": {
            "text/plain": [
              "1.1006711409395973"
            ]
          },
          "metadata": {},
          "execution_count": 127
        }
      ]
    },
    {
      "cell_type": "code",
      "source": [
        "median=np.median(weightGain)\n",
        "median"
      ],
      "metadata": {
        "colab": {
          "base_uri": "https://localhost:8080/"
        },
        "id": "a0iSHqHi2IOJ",
        "outputId": "0764a152-c69f-4f33-c922-7041f6d2ab25"
      },
      "execution_count": 128,
      "outputs": [
        {
          "output_type": "execute_result",
          "data": {
            "text/plain": [
              "1.0"
            ]
          },
          "metadata": {},
          "execution_count": 128
        }
      ]
    },
    {
      "cell_type": "code",
      "source": [
        "import statistics as stats\n",
        "stats.mode(weightGain)"
      ],
      "metadata": {
        "colab": {
          "base_uri": "https://localhost:8080/"
        },
        "id": "IR6MuS9ZkzdJ",
        "outputId": "e64cf090-8404-4c85-a189-6afcbd041615"
      },
      "execution_count": 129,
      "outputs": [
        {
          "output_type": "execute_result",
          "data": {
            "text/plain": [
              "0"
            ]
          },
          "metadata": {},
          "execution_count": 129
        }
      ]
    },
    {
      "cell_type": "code",
      "source": [
        "np.var(weightGain)"
      ],
      "metadata": {
        "colab": {
          "base_uri": "https://localhost:8080/"
        },
        "id": "E_DdDi917bez",
        "outputId": "e320981e-0d88-4812-876c-dc471c231159"
      },
      "execution_count": 130,
      "outputs": [
        {
          "output_type": "execute_result",
          "data": {
            "text/plain": [
              "1.083825052925544"
            ]
          },
          "metadata": {},
          "execution_count": 130
        }
      ]
    },
    {
      "cell_type": "code",
      "source": [
        "std=np.std(weightGain)\n",
        "std"
      ],
      "metadata": {
        "colab": {
          "base_uri": "https://localhost:8080/"
        },
        "id": "e-ol_3h779EW",
        "outputId": "a43f08ef-d311-40bf-a1b5-e09a22a04fef"
      },
      "execution_count": 131,
      "outputs": [
        {
          "output_type": "execute_result",
          "data": {
            "text/plain": [
              "1.041069187386479"
            ]
          },
          "metadata": {},
          "execution_count": 131
        }
      ]
    }
  ]
}