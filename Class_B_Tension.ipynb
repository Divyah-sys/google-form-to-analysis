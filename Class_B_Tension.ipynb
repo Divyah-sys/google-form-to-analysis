{
  "nbformat": 4,
  "nbformat_minor": 0,
  "metadata": {
    "colab": {
      "name": "Class B - Tension",
      "provenance": [],
      "collapsed_sections": [],
      "authorship_tag": "ABX9TyNv5Cs03xHqnYmJa6PSx09z",
      "include_colab_link": true
    },
    "kernelspec": {
      "name": "python3",
      "display_name": "Python 3"
    },
    "language_info": {
      "name": "python"
    }
  },
  "cells": [
    {
      "cell_type": "markdown",
      "metadata": {
        "id": "view-in-github",
        "colab_type": "text"
      },
      "source": [
        "<a href=\"https://colab.research.google.com/github/Divyah-sys/google-form-to-analysis/blob/main/Class_B_Tension.ipynb\" target=\"_parent\"><img src=\"https://colab.research.google.com/assets/colab-badge.svg\" alt=\"Open In Colab\"/></a>"
      ]
    },
    {
      "cell_type": "code",
      "execution_count": 38,
      "metadata": {
        "id": "x-gxt6Au0AP8"
      },
      "outputs": [],
      "source": [
        "import numpy as np\n",
        "Tension = [2,2,2,2,2,2,3,2,3,2,1,1,1,1,1,1,1,0,1,0,1,1,2,0,0,0,0,1,3,3,1,3,0,1,2,2,0,0,0,0,1,2,1,2,1,1,0,2,3,1,0,2,2,2,2,2,2,0,2,2,2,2,2,2,2,0,1,2,1,2,2,2,2,3,3,2,3,1,2,3,1,2,3,2,2,3,3,3,3,3,3,3,2,3,3,2,2,2,3,2,3,3,2,0,1,3,2,0,0,0,1,1,1,0,2,2,0,1,1,2,3,1,1,1,1,0,0,3,2,1,2,2,2,1,1,3,1,2,0,0,1,0,1,1,2,1,1,2,0,0]"
      ]
    },
    {
      "cell_type": "code",
      "source": [
        "mean=np.mean(Tension)\n",
        "mean"
      ],
      "metadata": {
        "colab": {
          "base_uri": "https://localhost:8080/"
        },
        "id": "7_ipxBwV1_4b",
        "outputId": "14ae1cce-2d12-4b16-e590-af3acb90033e"
      },
      "execution_count": 39,
      "outputs": [
        {
          "output_type": "execute_result",
          "data": {
            "text/plain": [
              "1.5333333333333334"
            ]
          },
          "metadata": {},
          "execution_count": 39
        }
      ]
    },
    {
      "cell_type": "code",
      "source": [
        "median=np.median(Tension)\n",
        "median"
      ],
      "metadata": {
        "colab": {
          "base_uri": "https://localhost:8080/"
        },
        "id": "a0iSHqHi2IOJ",
        "outputId": "91f218cd-e67c-4805-df07-2d79c2e589db"
      },
      "execution_count": 40,
      "outputs": [
        {
          "output_type": "execute_result",
          "data": {
            "text/plain": [
              "2.0"
            ]
          },
          "metadata": {},
          "execution_count": 40
        }
      ]
    },
    {
      "cell_type": "code",
      "source": [
        "import statistics as stats\n",
        "stats.mode(Tension)"
      ],
      "metadata": {
        "colab": {
          "base_uri": "https://localhost:8080/"
        },
        "id": "Z6dgQy_sSQBw",
        "outputId": "5b8c6d77-6ee7-46b3-f159-66322d0e9641"
      },
      "execution_count": 41,
      "outputs": [
        {
          "output_type": "execute_result",
          "data": {
            "text/plain": [
              "2"
            ]
          },
          "metadata": {},
          "execution_count": 41
        }
      ]
    },
    {
      "cell_type": "code",
      "source": [
        "np.var(Tension)"
      ],
      "metadata": {
        "colab": {
          "base_uri": "https://localhost:8080/"
        },
        "id": "E_DdDi917bez",
        "outputId": "bf28e9b3-fc9d-42fb-fdca-b9d9c8e070ad"
      },
      "execution_count": 42,
      "outputs": [
        {
          "output_type": "execute_result",
          "data": {
            "text/plain": [
              "0.9822222222222223"
            ]
          },
          "metadata": {},
          "execution_count": 42
        }
      ]
    },
    {
      "cell_type": "code",
      "source": [
        "std=np.std(Tension)\n",
        "std"
      ],
      "metadata": {
        "colab": {
          "base_uri": "https://localhost:8080/"
        },
        "id": "e-ol_3h779EW",
        "outputId": "10e04b7f-b98f-4335-f5ad-13188ac0acb7"
      },
      "execution_count": 43,
      "outputs": [
        {
          "output_type": "execute_result",
          "data": {
            "text/plain": [
              "0.9910712498212337"
            ]
          },
          "metadata": {},
          "execution_count": 43
        }
      ]
    }
  ]
}