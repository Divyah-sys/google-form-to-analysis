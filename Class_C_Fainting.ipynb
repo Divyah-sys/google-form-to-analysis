{
  "nbformat": 4,
  "nbformat_minor": 0,
  "metadata": {
    "colab": {
      "name": "Class C -  Fainting",
      "provenance": [],
      "collapsed_sections": [],
      "authorship_tag": "ABX9TyPXz4K7J+1tn1VOvvzYQW/O",
      "include_colab_link": true
    },
    "kernelspec": {
      "name": "python3",
      "display_name": "Python 3"
    },
    "language_info": {
      "name": "python"
    }
  },
  "cells": [
    {
      "cell_type": "markdown",
      "metadata": {
        "id": "view-in-github",
        "colab_type": "text"
      },
      "source": [
        "<a href=\"https://colab.research.google.com/github/Divyah-sys/google-form-to-analysis/blob/main/Class_C_Fainting.ipynb\" target=\"_parent\"><img src=\"https://colab.research.google.com/assets/colab-badge.svg\" alt=\"Open In Colab\"/></a>"
      ]
    },
    {
      "cell_type": "code",
      "execution_count": 96,
      "metadata": {
        "id": "x-gxt6Au0AP8"
      },
      "outputs": [],
      "source": [
        "import numpy as np\n",
        "Fainting = [2,2,2,2,2,1,2,1,3,2,1,1,0,2,2,1,2,0,2,0,3,1,2,0,1,1,0,1,1,0,3,0,0,1,2,0,0,0,0,0,1,0,0,0,1,0,1,0,2,0,0,2,2,2,2,2,2,0,1,2,2,2,2,3,2,0,2,2,2,2,2,2,2,3,3,3,3,0,2,0,0,3,2,2,3,3,3,3,3,3,3,0,0,3,0,0,1,2,0,0,1,2,0,0,1,1,0,0,0,0,2,0,0,2,0,1,1,2,1,0,0,0,1,0,1,1,1,2,1,1,1,2,2,3,0,2,0,2,1,0,1,1,2,1,0,2,3,1]"
      ]
    },
    {
      "cell_type": "code",
      "source": [
        "mean=np.mean(Fainting)\n",
        "mean"
      ],
      "metadata": {
        "colab": {
          "base_uri": "https://localhost:8080/"
        },
        "id": "7_ipxBwV1_4b",
        "outputId": "12f27f8a-412d-43b4-8b25-b91723248e0a"
      },
      "execution_count": 97,
      "outputs": [
        {
          "output_type": "execute_result",
          "data": {
            "text/plain": [
              "1.25"
            ]
          },
          "metadata": {},
          "execution_count": 97
        }
      ]
    },
    {
      "cell_type": "code",
      "source": [
        "median=np.median(Fainting)\n",
        "median"
      ],
      "metadata": {
        "colab": {
          "base_uri": "https://localhost:8080/"
        },
        "id": "a0iSHqHi2IOJ",
        "outputId": "2e5f3a60-fa8a-4500-beb9-7c0d1a83e418"
      },
      "execution_count": 98,
      "outputs": [
        {
          "output_type": "execute_result",
          "data": {
            "text/plain": [
              "1.0"
            ]
          },
          "metadata": {},
          "execution_count": 98
        }
      ]
    },
    {
      "cell_type": "code",
      "source": [
        "import statistics as stats\n",
        "stats.mode(Fainting)"
      ],
      "metadata": {
        "colab": {
          "base_uri": "https://localhost:8080/"
        },
        "id": "IR6MuS9ZkzdJ",
        "outputId": "2883846b-28d3-4cff-c14d-f21f15e0e727"
      },
      "execution_count": 99,
      "outputs": [
        {
          "output_type": "execute_result",
          "data": {
            "text/plain": [
              "0"
            ]
          },
          "metadata": {},
          "execution_count": 99
        }
      ]
    },
    {
      "cell_type": "code",
      "source": [
        "np.var(Fainting)"
      ],
      "metadata": {
        "colab": {
          "base_uri": "https://localhost:8080/"
        },
        "id": "E_DdDi917bez",
        "outputId": "13014e04-53cd-444b-8182-9440959a6544"
      },
      "execution_count": 100,
      "outputs": [
        {
          "output_type": "execute_result",
          "data": {
            "text/plain": [
              "1.0929054054054055"
            ]
          },
          "metadata": {},
          "execution_count": 100
        }
      ]
    },
    {
      "cell_type": "code",
      "source": [
        "std=np.std(Fainting)\n",
        "std"
      ],
      "metadata": {
        "colab": {
          "base_uri": "https://localhost:8080/"
        },
        "id": "e-ol_3h779EW",
        "outputId": "60ad0f4c-cf85-434b-92c4-d5ae7d1caf08"
      },
      "execution_count": 101,
      "outputs": [
        {
          "output_type": "execute_result",
          "data": {
            "text/plain": [
              "1.0454211617359797"
            ]
          },
          "metadata": {},
          "execution_count": 101
        }
      ]
    }
  ]
}