{
  "nbformat": 4,
  "nbformat_minor": 0,
  "metadata": {
    "colab": {
      "name": "Class D -  Breast Tenderness",
      "provenance": [],
      "collapsed_sections": [],
      "authorship_tag": "ABX9TyNsXr0fqK6SMgOIGB+NHc1z",
      "include_colab_link": true
    },
    "kernelspec": {
      "name": "python3",
      "display_name": "Python 3"
    },
    "language_info": {
      "name": "python"
    }
  },
  "cells": [
    {
      "cell_type": "markdown",
      "metadata": {
        "id": "view-in-github",
        "colab_type": "text"
      },
      "source": [
        "<a href=\"https://colab.research.google.com/github/Divyah-sys/google-form-to-analysis/blob/main/Class_D_Breast_Tenderness.ipynb\" target=\"_parent\"><img src=\"https://colab.research.google.com/assets/colab-badge.svg\" alt=\"Open In Colab\"/></a>"
      ]
    },
    {
      "cell_type": "code",
      "execution_count": 114,
      "metadata": {
        "id": "x-gxt6Au0AP8"
      },
      "outputs": [],
      "source": [
        "import numpy as np\n",
        "BreastTenderness = [2,1,2,1,2,1,2,3,3,1,1,1,1,2,1,2,0,2,0,1,1,2,0,0,1,0,2,0,2,2,3,1,2,0,0,0,0,0,0,0,3,0,2,1,1,0,3,2,0,2,2,3,2,2,2,2,0,0,2,2,2,2,2,2,1,1,2,2,2,2,2,2,3,3,2,0,3,2,0,2,3,2,3,3,3,3,3,2,2,3,0,1,3,2,1,2,0,1,2,0,2,0,0,0,2,0,0,0,0,0,2,1,0,1,1,0,1,2,0,2,0,0,1,1,1,3,1,1,1,0,1,2,2,0,1,2,0,2,0,0,1,0,2,1,0,1,1,1]"
      ]
    },
    {
      "cell_type": "code",
      "source": [
        "mean=np.mean(BreastTenderness)\n",
        "mean"
      ],
      "metadata": {
        "colab": {
          "base_uri": "https://localhost:8080/"
        },
        "id": "7_ipxBwV1_4b",
        "outputId": "052bd613-eab6-45a2-9df5-44e0378f63ad"
      },
      "execution_count": 115,
      "outputs": [
        {
          "output_type": "execute_result",
          "data": {
            "text/plain": [
              "1.2972972972972974"
            ]
          },
          "metadata": {},
          "execution_count": 115
        }
      ]
    },
    {
      "cell_type": "code",
      "source": [
        "median=np.median(BreastTenderness)\n",
        "median"
      ],
      "metadata": {
        "colab": {
          "base_uri": "https://localhost:8080/"
        },
        "id": "a0iSHqHi2IOJ",
        "outputId": "c003ff3d-735a-4091-8b2a-0003881b524b"
      },
      "execution_count": 116,
      "outputs": [
        {
          "output_type": "execute_result",
          "data": {
            "text/plain": [
              "1.0"
            ]
          },
          "metadata": {},
          "execution_count": 116
        }
      ]
    },
    {
      "cell_type": "code",
      "source": [
        "import statistics as stats\n",
        "stats.mode(BreastTenderness)"
      ],
      "metadata": {
        "colab": {
          "base_uri": "https://localhost:8080/"
        },
        "id": "IR6MuS9ZkzdJ",
        "outputId": "4821fac4-ed97-4ff1-f81d-36de981cb12d"
      },
      "execution_count": 117,
      "outputs": [
        {
          "output_type": "execute_result",
          "data": {
            "text/plain": [
              "2"
            ]
          },
          "metadata": {},
          "execution_count": 117
        }
      ]
    },
    {
      "cell_type": "code",
      "source": [
        "np.var(BreastTenderness)"
      ],
      "metadata": {
        "colab": {
          "base_uri": "https://localhost:8080/"
        },
        "id": "E_DdDi917bez",
        "outputId": "da1778ae-bd93-4551-86aa-9c00f8f338da"
      },
      "execution_count": 118,
      "outputs": [
        {
          "output_type": "execute_result",
          "data": {
            "text/plain": [
              "1.0332359386413439"
            ]
          },
          "metadata": {},
          "execution_count": 118
        }
      ]
    },
    {
      "cell_type": "code",
      "source": [
        "std=np.std(BreastTenderness)\n",
        "std"
      ],
      "metadata": {
        "colab": {
          "base_uri": "https://localhost:8080/"
        },
        "id": "e-ol_3h779EW",
        "outputId": "6a24b829-5372-4ce7-af79-4d6d15318336"
      },
      "execution_count": 119,
      "outputs": [
        {
          "output_type": "execute_result",
          "data": {
            "text/plain": [
              "1.01648213886981"
            ]
          },
          "metadata": {},
          "execution_count": 119
        }
      ]
    }
  ]
}