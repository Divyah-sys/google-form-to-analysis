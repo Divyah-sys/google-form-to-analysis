{
  "nbformat": 4,
  "nbformat_minor": 0,
  "metadata": {
    "colab": {
      "name": "Class A - Restlessness",
      "provenance": [],
      "collapsed_sections": [],
      "authorship_tag": "ABX9TyNrze0gIiToaV6o6Je8JjzR",
      "include_colab_link": true
    },
    "kernelspec": {
      "name": "python3",
      "display_name": "Python 3"
    },
    "language_info": {
      "name": "python"
    }
  },
  "cells": [
    {
      "cell_type": "markdown",
      "metadata": {
        "id": "view-in-github",
        "colab_type": "text"
      },
      "source": [
        "<a href=\"https://colab.research.google.com/github/Divyah-sys/google-form-to-analysis/blob/main/Class_A_Restlessness.ipynb\" target=\"_parent\"><img src=\"https://colab.research.google.com/assets/colab-badge.svg\" alt=\"Open In Colab\"/></a>"
      ]
    },
    {
      "cell_type": "code",
      "execution_count": 32,
      "metadata": {
        "id": "x-gxt6Au0AP8"
      },
      "outputs": [],
      "source": [
        "import numpy as np\n",
        "Restlessness=[2,2,1,1,1,2,2,2,3,2,2,2,1,1,2,1,1,0,0,0,1,0,2,1,0,0,0,1,1,2,0,0,2,2,1,0,0,0,0,1,0,1,1,3,1,1,0,1,0,0,1,2,2,3,2,2,2,0,1,2,3,2,2,1,2,1,2,2,2,1,1,2,2,3,3,3,3,2,2,1,0,3,2,1,2,3,3,2,3,3,2,3,1,2,3,0,0,2,3,1,0,2,3,1,1,1,0,0,2,0,0,3,1,1,0,0,1,1,2,0,0,0,1,1,0,1,1,0,2,2,1,2,2,2,1,0,1,1,0,1,1,1,1,2,1,1,2,0,0]"
      ]
    },
    {
      "cell_type": "code",
      "source": [
        "mean=np.mean(Restlessness)\n",
        "mean"
      ],
      "metadata": {
        "colab": {
          "base_uri": "https://localhost:8080/"
        },
        "id": "7_ipxBwV1_4b",
        "outputId": "1c5d1901-971f-4652-95f6-97b7c7dfb3ce"
      },
      "execution_count": 33,
      "outputs": [
        {
          "output_type": "execute_result",
          "data": {
            "text/plain": [
              "1.2953020134228188"
            ]
          },
          "metadata": {},
          "execution_count": 33
        }
      ]
    },
    {
      "cell_type": "code",
      "source": [
        "median=np.median(Restlessness)\n",
        "median"
      ],
      "metadata": {
        "colab": {
          "base_uri": "https://localhost:8080/"
        },
        "id": "a0iSHqHi2IOJ",
        "outputId": "7cf6aa59-3e8c-4af8-99d2-3b3d5d23c91d"
      },
      "execution_count": 34,
      "outputs": [
        {
          "output_type": "execute_result",
          "data": {
            "text/plain": [
              "1.0"
            ]
          },
          "metadata": {},
          "execution_count": 34
        }
      ]
    },
    {
      "cell_type": "code",
      "source": [
        "import statistics as stats\n",
        "stats.mode(Restlessness)"
      ],
      "metadata": {
        "colab": {
          "base_uri": "https://localhost:8080/"
        },
        "id": "Z6dgQy_sSQBw",
        "outputId": "b3541441-76af-4eb8-e642-147450dc7efe"
      },
      "execution_count": 35,
      "outputs": [
        {
          "output_type": "execute_result",
          "data": {
            "text/plain": [
              "1"
            ]
          },
          "metadata": {},
          "execution_count": 35
        }
      ]
    },
    {
      "cell_type": "code",
      "source": [
        "np.var(Restlessness)"
      ],
      "metadata": {
        "colab": {
          "base_uri": "https://localhost:8080/"
        },
        "id": "E_DdDi917bez",
        "outputId": "8421d0f9-dcfd-4337-d170-68f8a8d430e9"
      },
      "execution_count": 36,
      "outputs": [
        {
          "output_type": "execute_result",
          "data": {
            "text/plain": [
              "0.9463537678482951"
            ]
          },
          "metadata": {},
          "execution_count": 36
        }
      ]
    },
    {
      "cell_type": "code",
      "source": [
        "std=np.std(Restlessness)\n",
        "std"
      ],
      "metadata": {
        "colab": {
          "base_uri": "https://localhost:8080/"
        },
        "id": "e-ol_3h779EW",
        "outputId": "eae6a215-779b-4874-cd64-f57b46a12ce7"
      },
      "execution_count": 37,
      "outputs": [
        {
          "output_type": "execute_result",
          "data": {
            "text/plain": [
              "0.9728071586127927"
            ]
          },
          "metadata": {},
          "execution_count": 37
        }
      ]
    }
  ]
}