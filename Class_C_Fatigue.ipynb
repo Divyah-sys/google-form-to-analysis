{
  "nbformat": 4,
  "nbformat_minor": 0,
  "metadata": {
    "colab": {
      "name": "Class C -  Fatigue",
      "provenance": [],
      "collapsed_sections": [],
      "authorship_tag": "ABX9TyOVlTSS1rblVQKjigdDwZjs",
      "include_colab_link": true
    },
    "kernelspec": {
      "name": "python3",
      "display_name": "Python 3"
    },
    "language_info": {
      "name": "python"
    }
  },
  "cells": [
    {
      "cell_type": "markdown",
      "metadata": {
        "id": "view-in-github",
        "colab_type": "text"
      },
      "source": [
        "<a href=\"https://colab.research.google.com/github/Divyah-sys/google-form-to-analysis/blob/main/Class_C_Fatigue.ipynb\" target=\"_parent\"><img src=\"https://colab.research.google.com/assets/colab-badge.svg\" alt=\"Open In Colab\"/></a>"
      ]
    },
    {
      "cell_type": "code",
      "execution_count": 84,
      "metadata": {
        "id": "x-gxt6Au0AP8"
      },
      "outputs": [],
      "source": [
        "import numpy as np\n",
        "Fatigue = [2,2,2,2,1,1,2,1,3,3,2,1,2,2,2,1,2,0,0,0,1,1,2,0,2,0,1,1,1,2,0,0,0,1,0,0,0,1,1,0,1,1,0,3,1,1,0,2,3,0,0,2,2,2,2,2,2,0,1,2,2,2,2,2,2,1,1,2,2,2,2,2,2,3,3,3,3,0,2,0,1,3,2,2,3,3,3,3,3,3,3,3,0,1,3,0,0,1,3,0,0,2,2,1,0,1,2,0,0,0,0,0,2,1,1,1,0,1,1,2,1,0,1,2,1,0,1,2,3,1,3,1,2,2,3,1,2,0,0,0,0,1,1,2,1,1,1,1,0]"
      ]
    },
    {
      "cell_type": "code",
      "source": [
        "mean=np.mean(Fatigue)\n",
        "mean"
      ],
      "metadata": {
        "colab": {
          "base_uri": "https://localhost:8080/"
        },
        "id": "7_ipxBwV1_4b",
        "outputId": "1f08a516-3475-4c40-8931-5f870b6b98e0"
      },
      "execution_count": 85,
      "outputs": [
        {
          "output_type": "execute_result",
          "data": {
            "text/plain": [
              "1.348993288590604"
            ]
          },
          "metadata": {},
          "execution_count": 85
        }
      ]
    },
    {
      "cell_type": "code",
      "source": [
        "median=np.median(Fatigue)\n",
        "median"
      ],
      "metadata": {
        "colab": {
          "base_uri": "https://localhost:8080/"
        },
        "id": "a0iSHqHi2IOJ",
        "outputId": "33f0ad05-8fb2-46d8-cd0a-37ef19d328d1"
      },
      "execution_count": 86,
      "outputs": [
        {
          "output_type": "execute_result",
          "data": {
            "text/plain": [
              "1.0"
            ]
          },
          "metadata": {},
          "execution_count": 86
        }
      ]
    },
    {
      "cell_type": "code",
      "source": [
        "import statistics as stats\n",
        "stats.mode(Fatigue)"
      ],
      "metadata": {
        "colab": {
          "base_uri": "https://localhost:8080/"
        },
        "id": "IR6MuS9ZkzdJ",
        "outputId": "c95231f5-d291-46eb-dde4-9ff5c09c7462"
      },
      "execution_count": 87,
      "outputs": [
        {
          "output_type": "execute_result",
          "data": {
            "text/plain": [
              "2"
            ]
          },
          "metadata": {},
          "execution_count": 87
        }
      ]
    },
    {
      "cell_type": "code",
      "source": [
        "np.var(Fatigue)"
      ],
      "metadata": {
        "colab": {
          "base_uri": "https://localhost:8080/"
        },
        "id": "E_DdDi917bez",
        "outputId": "ac15006f-5adb-4950-bd35-a378d6b6b055"
      },
      "execution_count": 88,
      "outputs": [
        {
          "output_type": "execute_result",
          "data": {
            "text/plain": [
              "1.0325661006260982"
            ]
          },
          "metadata": {},
          "execution_count": 88
        }
      ]
    },
    {
      "cell_type": "code",
      "source": [
        "std=np.std(Fatigue)\n",
        "std"
      ],
      "metadata": {
        "colab": {
          "base_uri": "https://localhost:8080/"
        },
        "id": "e-ol_3h779EW",
        "outputId": "9cd50e98-139b-4826-b6d1-d956d8c0731d"
      },
      "execution_count": 89,
      "outputs": [
        {
          "output_type": "execute_result",
          "data": {
            "text/plain": [
              "1.0161525971162493"
            ]
          },
          "metadata": {},
          "execution_count": 89
        }
      ]
    }
  ]
}