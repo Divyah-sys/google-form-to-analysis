{
  "nbformat": 4,
  "nbformat_minor": 0,
  "metadata": {
    "colab": {
      "name": "Class C -  Headache",
      "provenance": [],
      "collapsed_sections": [],
      "authorship_tag": "ABX9TyNDCnSvPHKLE7whaMrpN3SQ",
      "include_colab_link": true
    },
    "kernelspec": {
      "name": "python3",
      "display_name": "Python 3"
    },
    "language_info": {
      "name": "python"
    }
  },
  "cells": [
    {
      "cell_type": "markdown",
      "metadata": {
        "id": "view-in-github",
        "colab_type": "text"
      },
      "source": [
        "<a href=\"https://colab.research.google.com/github/Divyah-sys/google-form-to-analysis/blob/main/Class_C_Headache.ipynb\" target=\"_parent\"><img src=\"https://colab.research.google.com/assets/colab-badge.svg\" alt=\"Open In Colab\"/></a>"
      ]
    },
    {
      "cell_type": "code",
      "execution_count": 90,
      "metadata": {
        "id": "x-gxt6Au0AP8"
      },
      "outputs": [],
      "source": [
        "import numpy as np\n",
        "Headache = [2,2,2,3,1,2,2,2,3,3,0,2,0,2,2,1,2,0,1,0,2,1,2,0,0,0,1,1,2,2,3,3,0,1,2,0,0,0,0,0,1,0,0,0,1,1,1,2,2,0,2,2,2,2,2,2,2,0,0,2,2,2,2,2,2,2,2,2,2,2,2,2,2,3,3,3,3,0,2,0,0,3,2,2,3,3,3,3,3,3,3,3,2,2,3,2,1,1,3,2,0,2,2,0,0,1,2,0,1,0,0,0,2,0,1,1,0,1,1,2,1,0,1,0,1,0,2,0,3,1,2,1,1,1,1,0,0,3,0,0,1,1,0,1,2,1,1,1,2,1]"
      ]
    },
    {
      "cell_type": "code",
      "source": [
        "mean=np.mean(Headache)\n",
        "mean"
      ],
      "metadata": {
        "colab": {
          "base_uri": "https://localhost:8080/"
        },
        "id": "7_ipxBwV1_4b",
        "outputId": "d2ab2e8f-d8d1-4818-da37-b582ca9a325e"
      },
      "execution_count": 91,
      "outputs": [
        {
          "output_type": "execute_result",
          "data": {
            "text/plain": [
              "1.3866666666666667"
            ]
          },
          "metadata": {},
          "execution_count": 91
        }
      ]
    },
    {
      "cell_type": "code",
      "source": [
        "median=np.median(Headache)\n",
        "median"
      ],
      "metadata": {
        "colab": {
          "base_uri": "https://localhost:8080/"
        },
        "id": "a0iSHqHi2IOJ",
        "outputId": "a05b8726-d044-4d5d-bf57-cf1f7680a948"
      },
      "execution_count": 92,
      "outputs": [
        {
          "output_type": "execute_result",
          "data": {
            "text/plain": [
              "2.0"
            ]
          },
          "metadata": {},
          "execution_count": 92
        }
      ]
    },
    {
      "cell_type": "code",
      "source": [
        "import statistics as stats\n",
        "stats.mode(Headache)"
      ],
      "metadata": {
        "colab": {
          "base_uri": "https://localhost:8080/"
        },
        "id": "IR6MuS9ZkzdJ",
        "outputId": "07fd7eee-c054-4f0e-dbdf-dcf21ebc6a8d"
      },
      "execution_count": 93,
      "outputs": [
        {
          "output_type": "execute_result",
          "data": {
            "text/plain": [
              "2"
            ]
          },
          "metadata": {},
          "execution_count": 93
        }
      ]
    },
    {
      "cell_type": "code",
      "source": [
        "np.var(Headache)"
      ],
      "metadata": {
        "colab": {
          "base_uri": "https://localhost:8080/"
        },
        "id": "E_DdDi917bez",
        "outputId": "94f2dae9-f8ff-46a1-df70-063189b497f5"
      },
      "execution_count": 94,
      "outputs": [
        {
          "output_type": "execute_result",
          "data": {
            "text/plain": [
              "1.0638222222222224"
            ]
          },
          "metadata": {},
          "execution_count": 94
        }
      ]
    },
    {
      "cell_type": "code",
      "source": [
        "std=np.std(Headache)\n",
        "std"
      ],
      "metadata": {
        "colab": {
          "base_uri": "https://localhost:8080/"
        },
        "id": "e-ol_3h779EW",
        "outputId": "05724705-316b-4bbb-8d5f-e58d96b33fb3"
      },
      "execution_count": 95,
      "outputs": [
        {
          "output_type": "execute_result",
          "data": {
            "text/plain": [
              "1.0314175789767317"
            ]
          },
          "metadata": {},
          "execution_count": 95
        }
      ]
    }
  ]
}