{
  "nbformat": 4,
  "nbformat_minor": 0,
  "metadata": {
    "colab": {
      "name": "data to formulas",
      "provenance": [],
      "collapsed_sections": [],
      "authorship_tag": "ABX9TyOZ0UtoTqJn2D0L7wUlS/F9",
      "include_colab_link": true
    },
    "kernelspec": {
      "name": "python3",
      "display_name": "Python 3"
    },
    "language_info": {
      "name": "python"
    }
  },
  "cells": [
    {
      "cell_type": "markdown",
      "metadata": {
        "id": "view-in-github",
        "colab_type": "text"
      },
      "source": [
        "<a href=\"https://colab.research.google.com/github/Divyah-sys/google-form-to-analysis/blob/main/data_to_formulas.ipynb\" target=\"_parent\"><img src=\"https://colab.research.google.com/assets/colab-badge.svg\" alt=\"Open In Colab\"/></a>"
      ]
    },
    {
      "cell_type": "code",
      "source": [
        "import numpy as np\n",
        "heights=[165,5.2,5.7,5.5,172,5,170 ,4.8,5.5,6.2,5.5,5.2,150,178,170,159,5.1,152,154,152,158,151.3,4.8,5.8,152,152,163,156 ,157,155,5.8,5.8,150 ,162,157,165,158,152,169,155,163,155,147,153,5.3,171,5.8,150,168,158,160,160,160,157,159,159,165,4.8,4.9,4.5,150,156,160,156,160,158,147,159,158,160,152,153,169,160,132,122,157,154,135,174,154,154,154,134,174,152,154 ,170,150,160,157,155.5,60 ,165,158,154 ,165,165,156,157,143,163,150,155 ,161,155,152 ,17057,160 ,151 ,164,153,150,174 ,152,165 ,169,5,156,162,154,150,164,144,150,160,146,5.2,160,130,154,5.5]\n"
      ],
      "metadata": {
        "id": "J2G4PmqXItqo"
      },
      "execution_count": 7,
      "outputs": []
    },
    {
      "cell_type": "code",
      "source": [
        "mean=np.mean(heights)\n",
        "mean"
      ],
      "metadata": {
        "colab": {
          "base_uri": "https://localhost:8080/"
        },
        "id": "tkaUFVg-RKWv",
        "outputId": "8458837c-ecda-4b20-965e-a7229f845e5b"
      },
      "execution_count": 8,
      "outputs": [
        {
          "output_type": "execute_result",
          "data": {
            "text/plain": [
              "258.7931818181818"
            ]
          },
          "metadata": {},
          "execution_count": 8
        }
      ]
    },
    {
      "cell_type": "code",
      "source": [
        "median=np.median(heights)\n",
        "median"
      ],
      "metadata": {
        "colab": {
          "base_uri": "https://localhost:8080/"
        },
        "id": "yn1kEw6SRX9g",
        "outputId": "eb376427-8d37-456c-c22f-90effabc09bd"
      },
      "execution_count": 14,
      "outputs": [
        {
          "output_type": "execute_result",
          "data": {
            "text/plain": [
              "155.0"
            ]
          },
          "metadata": {},
          "execution_count": 14
        }
      ]
    },
    {
      "cell_type": "code",
      "source": [
        "import statistics as stats\n",
        "stats.mode(heights)\n"
      ],
      "metadata": {
        "colab": {
          "base_uri": "https://localhost:8080/"
        },
        "id": "Z6dgQy_sSQBw",
        "outputId": "03506853-addb-4592-d0f9-1471a20946b0"
      },
      "execution_count": 13,
      "outputs": [
        {
          "output_type": "execute_result",
          "data": {
            "text/plain": [
              "160"
            ]
          },
          "metadata": {},
          "execution_count": 13
        }
      ]
    },
    {
      "cell_type": "code",
      "source": [
        "np.var(heights)"
      ],
      "metadata": {
        "colab": {
          "base_uri": "https://localhost:8080/"
        },
        "id": "2OvfkbBuTXzl",
        "outputId": "00f0444c-dff8-4923-afe9-99ec4a557a8f"
      },
      "execution_count": 15,
      "outputs": [
        {
          "output_type": "execute_result",
          "data": {
            "text/plain": [
              "2157323.0286656343"
            ]
          },
          "metadata": {},
          "execution_count": 15
        }
      ]
    },
    {
      "cell_type": "code",
      "source": [
        "std=np.std(heights)\n",
        "std"
      ],
      "metadata": {
        "colab": {
          "base_uri": "https://localhost:8080/"
        },
        "id": "jXvvm_JVTeUM",
        "outputId": "6d29b989-bf9b-4d74-cd57-00810392ce56"
      },
      "execution_count": 18,
      "outputs": [
        {
          "output_type": "execute_result",
          "data": {
            "text/plain": [
              "1468.782839178629"
            ]
          },
          "metadata": {},
          "execution_count": 18
        }
      ]
    }
  ]
}