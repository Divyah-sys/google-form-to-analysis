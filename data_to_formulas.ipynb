{
  "nbformat": 4,
  "nbformat_minor": 0,
  "metadata": {
    "colab": {
      "name": "data to formulas",
      "provenance": [],
      "collapsed_sections": [],
      "authorship_tag": "ABX9TyPB3upXrOiu6QhbyXZTSgQm",
      "include_colab_link": true
    },
    "kernelspec": {
      "name": "python3",
      "display_name": "Python 3"
    },
    "language_info": {
      "name": "python"
    }
  },
  "cells": [
    {
      "cell_type": "markdown",
      "metadata": {
        "id": "view-in-github",
        "colab_type": "text"
      },
      "source": [
        "<a href=\"https://colab.research.google.com/github/Divyah-sys/google-form-to-analysis/blob/main/data_to_formulas.ipynb\" target=\"_parent\"><img src=\"https://colab.research.google.com/assets/colab-badge.svg\" alt=\"Open In Colab\"/></a>"
      ]
    },
    {
      "cell_type": "code",
      "source": [
        "import numpy as np\n",
        "heights=[165,5.2,5.7,5.5,172,5,170 ,4.8,5.5,6.2,5.5,5.2,150,178,170,159,5.1,152,154,152,158,151.3,4.8,5.8,152,152,163,156 ,157,155,5.8,5.8,150 ,162,157,165,158,152,169,155,163,155,147,153,5.3,171,5.8,150,168,158,160,160,160,157,159,159,165,4.8,4.9,4.5,150,156,160,156,160,158,147,159,158,160,152,153,169,160,132,122,157,154,135,174,154,154,154,134,174,152,154 ,170,150,160,157,155.5,60 ,165,158,154 ,165,165,156,157,143,163,150,155 ,161,155,152 ,17057,160 ,151 ,164,153,150,174 ,152,165 ,169,5,156,162,154,150,164,144,150,160,146,5.2,160,130,154,5.5]\n"
      ],
      "metadata": {
        "id": "J2G4PmqXItqo"
      },
      "execution_count": null,
      "outputs": []
    },
    {
      "cell_type": "code",
      "source": [
        "mean=np.mean(heights)\n",
        "mean"
      ],
      "metadata": {
        "colab": {
          "base_uri": "https://localhost:8080/"
        },
        "id": "tkaUFVg-RKWv",
        "outputId": "779aa5e5-448f-4350-dee9-020cf6c9ed02"
      },
      "execution_count": null,
      "outputs": [
        {
          "output_type": "execute_result",
          "data": {
            "text/plain": [
              "258.7931818181818"
            ]
          },
          "metadata": {},
          "execution_count": 8
        }
      ]
    },
    {
      "cell_type": "code",
      "source": [
        "median=np.median(heights)\n",
        "median"
      ],
      "metadata": {
        "colab": {
          "base_uri": "https://localhost:8080/"
        },
        "id": "yn1kEw6SRX9g",
        "outputId": "68954bf3-2092-44d3-9b82-ba2f510a7ac9"
      },
      "execution_count": null,
      "outputs": [
        {
          "output_type": "execute_result",
          "data": {
            "text/plain": [
              "155.0"
            ]
          },
          "metadata": {},
          "execution_count": 9
        }
      ]
    },
    {
      "cell_type": "code",
      "source": [
        "import statistics as stats\n",
        "stats.mode(heights)\n"
      ],
      "metadata": {
        "colab": {
          "base_uri": "https://localhost:8080/"
        },
        "id": "Z6dgQy_sSQBw",
        "outputId": "5ce3410c-85b5-4592-d5bf-4438eaff1f38"
      },
      "execution_count": null,
      "outputs": [
        {
          "output_type": "execute_result",
          "data": {
            "text/plain": [
              "160"
            ]
          },
          "metadata": {},
          "execution_count": 10
        }
      ]
    },
    {
      "cell_type": "code",
      "source": [
        "np.var(heights)"
      ],
      "metadata": {
        "colab": {
          "base_uri": "https://localhost:8080/"
        },
        "id": "2OvfkbBuTXzl",
        "outputId": "00f0444c-dff8-4923-afe9-99ec4a557a8f"
      },
      "execution_count": null,
      "outputs": [
        {
          "output_type": "execute_result",
          "data": {
            "text/plain": [
              "2157323.0286656343"
            ]
          },
          "metadata": {},
          "execution_count": 15
        }
      ]
    },
    {
      "cell_type": "code",
      "source": [
        "std=np.std(heights)\n",
        "std"
      ],
      "metadata": {
        "colab": {
          "base_uri": "https://localhost:8080/"
        },
        "id": "jXvvm_JVTeUM",
        "outputId": "7c52763e-c8fb-415b-c2c5-25fe58219aa0"
      },
      "execution_count": null,
      "outputs": [
        {
          "output_type": "execute_result",
          "data": {
            "text/plain": [
              "1468.782839178629"
            ]
          },
          "metadata": {},
          "execution_count": 11
        }
      ]
    },
    {
      "cell_type": "code",
      "source": [
        "import numpy as np\n",
        "weights = [60,51,56,54,50 ,57,65 ,45,66,50,95,45,64,60,52,58,50,55,50,38,70,50 ,56 ,40,45,35,52,52,52,57,67,59,59,62,47,62,47,46,52,50,47 ,53,38,55,40,49,46,59,75,59,48,55,52,55,58,42,57,65,59,65,55,60,50,55,52,56,66,65,65,58,50,63,44,58,43,65,65,55,45,41,35,54,55,65,48,42,175,36,55,55 ,37 ,50 ,42 ,41,52,55,43,50,65,65,41 ,53,60,40,63,45,48,50,60,70,74,62,45,48,56 ,40,67,51,46 ,48,55,45,69,37,38,38,40,54,42,67,46,48,45,50,67,57,57,55,45,59,63,63]\n"
      ],
      "metadata": {
        "id": "3I2wcwVpZMzS"
      },
      "execution_count": 31,
      "outputs": []
    },
    {
      "cell_type": "code",
      "source": [
        "mean=np.mean(weights)\n",
        "mean"
      ],
      "metadata": {
        "colab": {
          "base_uri": "https://localhost:8080/"
        },
        "id": "s4chSsQeqfa6",
        "outputId": "7e526dc8-c024-492e-ff55-771615bc70d7"
      },
      "execution_count": 32,
      "outputs": [
        {
          "output_type": "execute_result",
          "data": {
            "text/plain": [
              "54.19718309859155"
            ]
          },
          "metadata": {},
          "execution_count": 32
        }
      ]
    },
    {
      "cell_type": "code",
      "source": [
        "median=np.median(weights)\n",
        "median"
      ],
      "metadata": {
        "colab": {
          "base_uri": "https://localhost:8080/"
        },
        "id": "_cji1xgJqoDU",
        "outputId": "a30cba31-1448-4763-826e-2e619a559a13"
      },
      "execution_count": 33,
      "outputs": [
        {
          "output_type": "execute_result",
          "data": {
            "text/plain": [
              "53.5"
            ]
          },
          "metadata": {},
          "execution_count": 33
        }
      ]
    },
    {
      "cell_type": "code",
      "source": [
        "import statistics as stats\n",
        "stats.mode(weights)\n"
      ],
      "metadata": {
        "colab": {
          "base_uri": "https://localhost:8080/"
        },
        "outputId": "25f88c1f-a987-4977-fdc7-6c34e9248eb9",
        "id": "LYcgNjgmq2UK"
      },
      "execution_count": 34,
      "outputs": [
        {
          "output_type": "execute_result",
          "data": {
            "text/plain": [
              "55"
            ]
          },
          "metadata": {},
          "execution_count": 34
        }
      ]
    },
    {
      "cell_type": "code",
      "source": [
        "std=np.std(weights)\n",
        "std"
      ],
      "metadata": {
        "colab": {
          "base_uri": "https://localhost:8080/"
        },
        "outputId": "dbcb086e-3332-422b-9f2c-124de5d45d1f",
        "id": "f5wo2yrLrKJS"
      },
      "execution_count": 37,
      "outputs": [
        {
          "output_type": "execute_result",
          "data": {
            "text/plain": [
              "13.997605145579202"
            ]
          },
          "metadata": {},
          "execution_count": 37
        }
      ]
    },
    {
      "cell_type": "code",
      "source": [
        "np.var(weights)"
      ],
      "metadata": {
        "colab": {
          "base_uri": "https://localhost:8080/"
        },
        "outputId": "7490afd5-02b3-470c-de7e-b351d4a51bcb",
        "id": "6ckWUsDtrTvf"
      },
      "execution_count": 39,
      "outputs": [
        {
          "output_type": "execute_result",
          "data": {
            "text/plain": [
              "195.93294981154537"
            ]
          },
          "metadata": {},
          "execution_count": 39
        }
      ]
    },
    {
      "cell_type": "code",
      "source": [
        ""
      ],
      "metadata": {
        "id": "klKzZNvyrZV0"
      },
      "execution_count": null,
      "outputs": []
    }
  ]
}