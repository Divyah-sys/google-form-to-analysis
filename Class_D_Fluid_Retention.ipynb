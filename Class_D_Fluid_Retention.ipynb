{
  "nbformat": 4,
  "nbformat_minor": 0,
  "metadata": {
    "colab": {
      "name": "Class D -  Fluid Retention",
      "provenance": [],
      "collapsed_sections": [],
      "authorship_tag": "ABX9TyMDwLTshsPpd//qbVwvfqOR",
      "include_colab_link": true
    },
    "kernelspec": {
      "name": "python3",
      "display_name": "Python 3"
    },
    "language_info": {
      "name": "python"
    }
  },
  "cells": [
    {
      "cell_type": "markdown",
      "metadata": {
        "id": "view-in-github",
        "colab_type": "text"
      },
      "source": [
        "<a href=\"https://colab.research.google.com/github/Divyah-sys/google-form-to-analysis/blob/main/Class_D_Fluid_Retention.ipynb\" target=\"_parent\"><img src=\"https://colab.research.google.com/assets/colab-badge.svg\" alt=\"Open In Colab\"/></a>"
      ]
    },
    {
      "cell_type": "code",
      "execution_count": 132,
      "metadata": {
        "id": "x-gxt6Au0AP8"
      },
      "outputs": [],
      "source": [
        "import numpy as np\n",
        "FluidRetention = [2,2,2,1,2,2,2,2,3,3,3,2,1,1,2,1,2,0,2,0,1,0,2,0,2,2,0,2,1,1,0,2,1,2,1,0,0,0,0,0,0,1,0,2,1,0,0,0,0,0,2,3,2,2,2,2,0,0,2,1,2,2,3,2,2,2,2,2,2,2,2,2,3,3,3,2,0,1,3,0,2,3,2,3,3,3,3,3,2,2,3,2,0,3,0,0,2,2,1,1,0,2,0,0,0,2,1,0,0,0,0,2,0,0,1,0,2,1,2,0,2,0,1,1,1,0,0,2,1,2,0,1,2,2,0,0,1,2,0,0,0,0,0,2,1,2,2]"
      ]
    },
    {
      "cell_type": "code",
      "source": [
        "mean=np.mean(FluidRetention)\n",
        "mean"
      ],
      "metadata": {
        "colab": {
          "base_uri": "https://localhost:8080/"
        },
        "id": "7_ipxBwV1_4b",
        "outputId": "6ccd1f10-5889-425a-a54d-1c014533346d"
      },
      "execution_count": 134,
      "outputs": [
        {
          "output_type": "execute_result",
          "data": {
            "text/plain": [
              "1.2925170068027212"
            ]
          },
          "metadata": {},
          "execution_count": 134
        }
      ]
    },
    {
      "cell_type": "code",
      "source": [
        "median=np.median(FluidRetention)\n",
        "median"
      ],
      "metadata": {
        "colab": {
          "base_uri": "https://localhost:8080/"
        },
        "id": "a0iSHqHi2IOJ",
        "outputId": "01f079f8-80bd-437b-f3b9-2ad7271c9828"
      },
      "execution_count": 135,
      "outputs": [
        {
          "output_type": "execute_result",
          "data": {
            "text/plain": [
              "2.0"
            ]
          },
          "metadata": {},
          "execution_count": 135
        }
      ]
    },
    {
      "cell_type": "code",
      "source": [
        "import statistics as stats\n",
        "stats.mode(FluidRetention)"
      ],
      "metadata": {
        "colab": {
          "base_uri": "https://localhost:8080/"
        },
        "id": "IR6MuS9ZkzdJ",
        "outputId": "aa05cfe2-c1bb-4bd3-f23e-93ae164619a8"
      },
      "execution_count": 136,
      "outputs": [
        {
          "output_type": "execute_result",
          "data": {
            "text/plain": [
              "2"
            ]
          },
          "metadata": {},
          "execution_count": 136
        }
      ]
    },
    {
      "cell_type": "code",
      "source": [
        "np.var(FluidRetention)"
      ],
      "metadata": {
        "colab": {
          "base_uri": "https://localhost:8080/"
        },
        "id": "E_DdDi917bez",
        "outputId": "23ef0604-1277-449e-9955-6f827bead8a9"
      },
      "execution_count": 137,
      "outputs": [
        {
          "output_type": "execute_result",
          "data": {
            "text/plain": [
              "1.0913045490304967"
            ]
          },
          "metadata": {},
          "execution_count": 137
        }
      ]
    },
    {
      "cell_type": "code",
      "source": [
        "std=np.std(FluidRetention)\n",
        "std"
      ],
      "metadata": {
        "colab": {
          "base_uri": "https://localhost:8080/"
        },
        "id": "e-ol_3h779EW",
        "outputId": "529612c2-c131-4223-a5ec-edb5c0fcdcf9"
      },
      "execution_count": 138,
      "outputs": [
        {
          "output_type": "execute_result",
          "data": {
            "text/plain": [
              "1.0446552297435248"
            ]
          },
          "metadata": {},
          "execution_count": 138
        }
      ]
    }
  ]
}