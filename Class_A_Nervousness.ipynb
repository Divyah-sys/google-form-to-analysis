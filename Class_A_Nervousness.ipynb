{
  "nbformat": 4,
  "nbformat_minor": 0,
  "metadata": {
    "colab": {
      "name": "Class A - Nervousness",
      "provenance": [],
      "collapsed_sections": [],
      "authorship_tag": "ABX9TyNXTUwEGKNgi8WHN3BXXchr",
      "include_colab_link": true
    },
    "kernelspec": {
      "name": "python3",
      "display_name": "Python 3"
    },
    "language_info": {
      "name": "python"
    }
  },
  "cells": [
    {
      "cell_type": "markdown",
      "metadata": {
        "id": "view-in-github",
        "colab_type": "text"
      },
      "source": [
        "<a href=\"https://colab.research.google.com/github/Divyah-sys/google-form-to-analysis/blob/main/Class_A_Nervousness.ipynb\" target=\"_parent\"><img src=\"https://colab.research.google.com/assets/colab-badge.svg\" alt=\"Open In Colab\"/></a>"
      ]
    },
    {
      "cell_type": "code",
      "execution_count": 26,
      "metadata": {
        "id": "x-gxt6Au0AP8"
      },
      "outputs": [],
      "source": [
        "import numpy as np\n",
        "Nervousness=[2,1,1,3,2,1,2,2,3,1,1,1,2,1,2,1,2,0,1,0,3,1,2,1,0,1,0,1,3,3,2,3,2,2,1,2,1,0,1,2,1,2,1,0,1,2,0,1,2,1,3,2,2,3,2,2,2,0,1,2,3,2,2,2,2,1,2,1,2,1,1,2,3,3,3,3,1,3,1,1,3,2,1,2,3,3,2,3,3,2,3,2,3,2,3,2,3,3,1,2,2,2,1,0,2,0,0,1,1,0,2,2,3,2,3,0,3,1,2,3,2,0,2,1,0,0,2,2,2,0,2,3,1,1,3,0,1,1,0,1,0,0,0,2,1,2,1,2,2]"
      ]
    },
    {
      "cell_type": "code",
      "source": [
        "mean=np.mean(Nervousness)\n",
        "mean"
      ],
      "metadata": {
        "colab": {
          "base_uri": "https://localhost:8080/"
        },
        "id": "7_ipxBwV1_4b",
        "outputId": "5217b96d-4206-47ab-c07f-064525646d4e"
      },
      "execution_count": 27,
      "outputs": [
        {
          "output_type": "execute_result",
          "data": {
            "text/plain": [
              "1.6174496644295302"
            ]
          },
          "metadata": {},
          "execution_count": 27
        }
      ]
    },
    {
      "cell_type": "code",
      "source": [
        "median=np.median(Nervousness)\n",
        "median"
      ],
      "metadata": {
        "colab": {
          "base_uri": "https://localhost:8080/"
        },
        "id": "a0iSHqHi2IOJ",
        "outputId": "ab70f9c3-482a-495b-94a8-51bae41689e8"
      },
      "execution_count": 28,
      "outputs": [
        {
          "output_type": "execute_result",
          "data": {
            "text/plain": [
              "2.0"
            ]
          },
          "metadata": {},
          "execution_count": 28
        }
      ]
    },
    {
      "cell_type": "code",
      "source": [
        "import statistics as stats\n",
        "stats.mode(Nervousness)"
      ],
      "metadata": {
        "colab": {
          "base_uri": "https://localhost:8080/"
        },
        "id": "Z6dgQy_sSQBw",
        "outputId": "a9af71fe-dd34-487f-aab6-e451e92f6e3b"
      },
      "execution_count": 29,
      "outputs": [
        {
          "output_type": "execute_result",
          "data": {
            "text/plain": [
              "2"
            ]
          },
          "metadata": {},
          "execution_count": 29
        }
      ]
    },
    {
      "cell_type": "code",
      "source": [
        "np.var(Nervousness)"
      ],
      "metadata": {
        "colab": {
          "base_uri": "https://localhost:8080/"
        },
        "id": "E_DdDi917bez",
        "outputId": "4e627e01-0aa2-4d0a-a6cb-1e582f12b675"
      },
      "execution_count": 30,
      "outputs": [
        {
          "output_type": "execute_result",
          "data": {
            "text/plain": [
              "0.9341921535065989"
            ]
          },
          "metadata": {},
          "execution_count": 30
        }
      ]
    },
    {
      "cell_type": "code",
      "source": [
        "std=np.std(Nervousness)\n",
        "std"
      ],
      "metadata": {
        "colab": {
          "base_uri": "https://localhost:8080/"
        },
        "id": "e-ol_3h779EW",
        "outputId": "b19ccb1c-050a-4543-88d9-9705d0a9af9f"
      },
      "execution_count": 31,
      "outputs": [
        {
          "output_type": "execute_result",
          "data": {
            "text/plain": [
              "0.9665361625446814"
            ]
          },
          "metadata": {},
          "execution_count": 31
        }
      ]
    }
  ]
}